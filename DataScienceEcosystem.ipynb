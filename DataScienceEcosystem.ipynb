{
 "cells": [
  {
   "cell_type": "markdown",
   "id": "5420e829-e02d-4769-8e22-5e966e983e74",
   "metadata": {},
   "source": [
    "# Data Science Tools and Ecosystem\n"
   ]
  },
  {
   "cell_type": "markdown",
   "id": "84ef2275-49c2-44a6-8577-38587a58bb97",
   "metadata": {},
   "source": [
    "In this notebook, Data Science Tools and Ecosystem are summarized."
   ]
  },
  {
   "cell_type": "markdown",
   "id": "31fd1135-4fc2-4b11-8703-b0e103673a97",
   "metadata": {},
   "source": [
    "**Objectives:**\n",
    "- Learning Python\n",
    "- Using R language\n",
    "- Learn about Hadoop and )"
   ]
  },
  {
   "cell_type": "markdown",
   "id": "5223119e-8dff-42c7-9059-8d66abfcb0b8",
   "metadata": {},
   "source": [
    "Some of the popular languages that Data Scientists use are:\r",
    "1. Python\n",
    "2. R\n",
    "3. Julia\n",
    "."
   ]
  },
  {
   "cell_type": "markdown",
   "id": "7c700827-3188-4e8f-9e3a-ada9e497e7bd",
   "metadata": {},
   "source": [
    "Some of the commonly used libraries used by Data Scientists include:\r",
    "1. NumPy\n",
    "2. Pandas\n",
    "3. TensorFlow ("
   ]
  },
  {
   "cell_type": "markdown",
   "id": "be779e56-ba32-4ebe-b380-da788b35824c",
   "metadata": {},
   "source": [
    "Create a single column table in this cell with the first row containing the header Data Science Tools. The subsequent three rows in the table should indicate three development environment open source tools used in data science."
   ]
  },
  {
   "cell_type": "markdown",
   "id": "d15d8320-5880-4aa4-aeca-ef055c0b1c1c",
   "metadata": {},
   "source": [
    "| Data Science Tools |\n",
    "----------------------\n",
    "|Jupyter |\n",
    "|Hadoop  |\n",
    "|Spark   |\n",
    "\n"
   ]
  },
  {
   "cell_type": "markdown",
   "id": "ccc65bda-fe0e-465d-95f5-c57aaf9832d5",
   "metadata": {},
   "source": [
    "### Below are a few examples of evaluating arithmetic expressions in Python"
   ]
  },
  {
   "cell_type": "markdown",
   "id": "78276e49-08b0-49dd-8065-de1e98b34e40",
   "metadata": {},
   "source": [
    "This a simple arithmetic expression to mutiply then add integers"
   ]
  },
  {
   "cell_type": "code",
   "execution_count": 5,
   "id": "92736512-668f-4654-96b8-e7db2cd4e4bf",
   "metadata": {},
   "outputs": [
    {
     "data": {
      "text/plain": [
       "17"
      ]
     },
     "execution_count": 5,
     "metadata": {},
     "output_type": "execute_result"
    }
   ],
   "source": [
    "(3*4)+5"
   ]
  },
  {
   "cell_type": "markdown",
   "id": "17824c22-fe7c-42c1-b487-2ec5561cf45c",
   "metadata": {},
   "source": [
    "This will convert 200 minutes to hours by diving by 60"
   ]
  },
  {
   "cell_type": "code",
   "execution_count": 6,
   "id": "9ec8804c-3954-4645-8382-3ab4c30ccb09",
   "metadata": {},
   "outputs": [
    {
     "name": "stdout",
     "output_type": "stream",
     "text": [
      "3\n"
     ]
    }
   ],
   "source": [
    "h=200//60\n",
    "print(h)"
   ]
  },
  {
   "cell_type": "code",
   "execution_count": null,
   "id": "bf167e24-fb75-4614-9c31-4dc60ad7d722",
   "metadata": {},
   "outputs": [],
   "source": []
  }
 ],
 "metadata": {
  "kernelspec": {
   "display_name": "Python 3 (ipykernel)",
   "language": "python",
   "name": "python3"
  },
  "language_info": {
   "codemirror_mode": {
    "name": "ipython",
    "version": 3
   },
   "file_extension": ".py",
   "mimetype": "text/x-python",
   "name": "python",
   "nbconvert_exporter": "python",
   "pygments_lexer": "ipython3",
   "version": "3.11.7"
  }
 },
 "nbformat": 4,
 "nbformat_minor": 5
}
